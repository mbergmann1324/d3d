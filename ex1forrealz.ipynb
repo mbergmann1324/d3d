{
 "cells": [
  {
   "cell_type": "code",
   "execution_count": 25,
   "metadata": {},
   "outputs": [
    {
     "name": "stdout",
     "output_type": "stream",
     "text": [
      "97\n",
      "sum is  [791.5006 566.3961]   [23.7021  14.6579  22.1806  18.8572  12.6831  20.2689  11.8247  20.5781\n",
      " 13.0849   8.8712   8.9629  29.669    8.8891  15.6342   6.35688  8.8923\n",
      " 11.6702   5.69087 10.0814  12.4601   9.3277  42.037    9.7531  11.5136\n",
      "  8.6474  41.583   26.329   18.0037  27.868   46.35     4.0324  12.586\n",
      " 21.3822   7.7413  14.7537  12.4957  12.2123   8.9991  22.953   11.8508\n",
      "  5.96347 10.794   17.0934   8.2143  14.5565   8.1394  10.2039   7.6454\n",
      " 19.7043   6.5595  14.2906   7.1473  11.7124  12.6012   7.7561   4.9378\n",
      "  8.7498  10.2439  13.2726  14.8677  13.9948   4.43651 39.208   26.962\n",
      " 36.013   12.1034  14.0393  18.0114   6.5167  41.333   16.8159  11.3604\n",
      "  7.2846  10.567    2.3462   6.84468 11.4231  10.7379  17.0266   7.1653\n",
      "  6.20873  5.39261  7.03431 17.3122  11.8595  12.7587  15.9783   6.92895\n",
      "  5.6724   7.8808   7.5528  11.9325  13.0736   7.2923   8.43794 22.4491\n",
      "  6.05395]\n",
      "sum is  791.5006000000003   566.3960999999998\n"
     ]
    },
    {
     "ename": "IndexError",
     "evalue": "index 97 is out of bounds for axis 0 with size 97",
     "output_type": "error",
     "traceback": [
      "\u001b[0;31m---------------------------------------------------------------------------\u001b[0m",
      "\u001b[0;31mIndexError\u001b[0m                                Traceback (most recent call last)",
      "\u001b[0;32m<ipython-input-25-7f0725cd64b6>\u001b[0m in \u001b[0;36m<module>\u001b[0;34m()\u001b[0m\n\u001b[1;32m     22\u001b[0m \u001b[0;32mprint\u001b[0m \u001b[0;34m\"sum is \"\u001b[0m \u001b[0;34m,\u001b[0m \u001b[0msum\u001b[0m\u001b[0;34m(\u001b[0m\u001b[0mc\u001b[0m\u001b[0;34m)\u001b[0m \u001b[0;34m,\u001b[0m \u001b[0;34m\" \"\u001b[0m \u001b[0;34m,\u001b[0m \u001b[0msum\u001b[0m\u001b[0;34m(\u001b[0m\u001b[0md\u001b[0m\u001b[0;34m)\u001b[0m\u001b[0;34m\u001b[0m\u001b[0m\n\u001b[1;32m     23\u001b[0m \u001b[0;32mfor\u001b[0m \u001b[0mi\u001b[0m \u001b[0;32min\u001b[0m \u001b[0mrange\u001b[0m\u001b[0;34m(\u001b[0m\u001b[0;36m0\u001b[0m\u001b[0;34m,\u001b[0m\u001b[0;36m1500\u001b[0m\u001b[0;34m)\u001b[0m\u001b[0;34m:\u001b[0m\u001b[0;34m\u001b[0m\u001b[0m\n\u001b[0;32m---> 24\u001b[0;31m     \u001b[0mcost\u001b[0m\u001b[0;34m(\u001b[0m\u001b[0ma\u001b[0m\u001b[0;34m[\u001b[0m\u001b[0mi\u001b[0m\u001b[0;34m,\u001b[0m\u001b[0;36m1\u001b[0m\u001b[0;34m]\u001b[0m\u001b[0;34m,\u001b[0m \u001b[0mnumpy\u001b[0m\u001b[0;34m.\u001b[0m\u001b[0msize\u001b[0m\u001b[0;34m(\u001b[0m\u001b[0ma\u001b[0m\u001b[0;34m,\u001b[0m\u001b[0;36m0\u001b[0m\u001b[0;34m)\u001b[0m\u001b[0;34m,\u001b[0m \u001b[0mthe0\u001b[0m\u001b[0;34m,\u001b[0m \u001b[0mthe1\u001b[0m\u001b[0;34m,\u001b[0m \u001b[0ma\u001b[0m\u001b[0;34m[\u001b[0m\u001b[0mi\u001b[0m\u001b[0;34m,\u001b[0m\u001b[0;36m0\u001b[0m\u001b[0;34m]\u001b[0m\u001b[0;34m)\u001b[0m\u001b[0;34m\u001b[0m\u001b[0m\n\u001b[0m\u001b[1;32m     25\u001b[0m     \u001b[0mi\u001b[0m \u001b[0;34m+=\u001b[0m \u001b[0;36m1\u001b[0m\u001b[0;34m\u001b[0m\u001b[0m\n\u001b[1;32m     26\u001b[0m \u001b[0;34m\u001b[0m\u001b[0m\n",
      "\u001b[0;31mIndexError\u001b[0m: index 97 is out of bounds for axis 0 with size 97"
     ]
    }
   ],
   "source": [
    "%matplotlib inline\n",
    "import numpy\n",
    "import sys\n",
    "import matplotlib.pyplot as plt\n",
    "def hypo(the0, the1, x):\n",
    "    return the0+the1*x\n",
    "def cost(y, m, the0, the1, x):\n",
    "    return (1/(2*m))*numpy.sum(pow(hypo(the0, the1, x)-y,2))\n",
    "def the_update(x, the, m):\n",
    "    return the-(0.01/m)*sum(hypo(the0, the1, x)-y)*x\n",
    "    \n",
    "#print 'lalaldalal ' + str(3)\n",
    "#fobj= open(\"ex1data1.txt\")\n",
    "a=numpy.loadtxt(\"ex1data1.txt\", delimiter=\",\")\n",
    "c=numpy.loadtxt(\"ex1data1.txt\", delimiter=\",\", usecols=[0])\n",
    "#print c+1\n",
    "d=numpy.loadtxt(\"ex1data1.txt\", delimiter=\",\", usecols=[1])\n",
    "the0=0\n",
    "the1=0\n",
    "print numpy.size(a, axis=0)\n",
    "print \"sum is \" , numpy.sum(a, axis=0) , \" \" , numpy.sum(a,1)\n",
    "print \"sum is \" , sum(c) , \" \" , sum(d)\n",
    "for i in range(0,1500):\n",
    "    cost(a[i,1], numpy.size(a,0), the0, the1, a[i,0])\n",
    "    i += 1\n",
    "\n",
    "print a[:3]\n",
    "print a[0,0]\n",
    "print a[0,1]\n",
    "print a[1,1]\n",
    "plt.subplot(1,3,1)\n",
    "plt.plot(c)\n",
    "plt.tight_layout()\n",
    "plt.subplot(1,3,2)\n",
    "plt.plot(d)\n",
    "plt.subplot(1,3,3)\n",
    "plt.tight_layout()\n",
    "plt.scatter(c,d)\n",
    "plt.xlabel(\"thousands\")\n",
    "plt.ylabel(\"hundreds\")\n"
   ]
  },
  {
   "cell_type": "code",
   "execution_count": null,
   "metadata": {},
   "outputs": [],
   "source": []
  }
 ],
 "metadata": {
  "kernelspec": {
   "display_name": "Python 2",
   "language": "python",
   "name": "python2"
  },
  "language_info": {
   "codemirror_mode": {
    "name": "ipython",
    "version": 2
   },
   "file_extension": ".py",
   "mimetype": "text/x-python",
   "name": "python",
   "nbconvert_exporter": "python",
   "pygments_lexer": "ipython2",
   "version": "2.7.14"
  }
 },
 "nbformat": 4,
 "nbformat_minor": 2
}
